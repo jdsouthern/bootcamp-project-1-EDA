{
 "cells": [
  {
   "cell_type": "code",
   "execution_count": 30,
   "id": "4df93d61-ec08-475a-ae41-1e00200edf55",
   "metadata": {},
   "outputs": [],
   "source": [
    "# Dependencies\n",
    "import pandas as pd\n",
    "import matplotlib.pyplot as plt\n",
    "import scipy.stats as st\n",
    "import numpy as np"
   ]
  },
  {
   "cell_type": "code",
   "execution_count": 31,
   "id": "1d20ff89-1d69-44b6-8396-efd6f04b3aa5",
   "metadata": {},
   "outputs": [
    {
     "data": {
      "text/html": [
       "<div>\n",
       "<style scoped>\n",
       "    .dataframe tbody tr th:only-of-type {\n",
       "        vertical-align: middle;\n",
       "    }\n",
       "\n",
       "    .dataframe tbody tr th {\n",
       "        vertical-align: top;\n",
       "    }\n",
       "\n",
       "    .dataframe thead th {\n",
       "        text-align: right;\n",
       "    }\n",
       "</style>\n",
       "<table border=\"1\" class=\"dataframe\">\n",
       "  <thead>\n",
       "    <tr style=\"text-align: right;\">\n",
       "      <th></th>\n",
       "      <th>YEAR</th>\n",
       "      <th>INCIDENT_REPORT_ID</th>\n",
       "      <th>LOCATION</th>\n",
       "      <th>ZIP</th>\n",
       "      <th>X_COORD_PUBLIC</th>\n",
       "      <th>Y_COORD_PUBLIC</th>\n",
       "      <th>LATITUDE_PUBLIC</th>\n",
       "      <th>LONGITUDE_PUBLIC</th>\n",
       "      <th>CMPD_PATROL_DIVISION</th>\n",
       "      <th>NPA</th>\n",
       "      <th>...</th>\n",
       "      <th>DATE_INCIDENT_END</th>\n",
       "      <th>ADDRESS_DESCRIPTION</th>\n",
       "      <th>LOCATION_TYPE_DESCRIPTION</th>\n",
       "      <th>PLACE_TYPE_DESCRIPTION</th>\n",
       "      <th>PLACE_DETAIL_DESCRIPTION</th>\n",
       "      <th>CLEARANCE_STATUS</th>\n",
       "      <th>CLEARANCE_DETAIL_STATUS</th>\n",
       "      <th>CLEARANCE_DATE</th>\n",
       "      <th>HIGHEST_NIBRS_CODE</th>\n",
       "      <th>HIGHEST_NIBRS_DESCRIPTION</th>\n",
       "    </tr>\n",
       "  </thead>\n",
       "  <tbody>\n",
       "    <tr>\n",
       "      <th>0</th>\n",
       "      <td>2023</td>\n",
       "      <td>20231022-2159-03</td>\n",
       "      <td>11000 NORTHLAKE LANDING DR</td>\n",
       "      <td>28216</td>\n",
       "      <td>1446960.0</td>\n",
       "      <td>592756.0</td>\n",
       "      <td>35.364506</td>\n",
       "      <td>-80.855140</td>\n",
       "      <td>North</td>\n",
       "      <td>72</td>\n",
       "      <td>...</td>\n",
       "      <td>2023/10/22 00:00:00+00</td>\n",
       "      <td>Location of occurrence</td>\n",
       "      <td>Indoors</td>\n",
       "      <td>Residential</td>\n",
       "      <td>Private Residence</td>\n",
       "      <td>Open</td>\n",
       "      <td>Open</td>\n",
       "      <td>NaN</td>\n",
       "      <td>90Z</td>\n",
       "      <td>All Other Offenses</td>\n",
       "    </tr>\n",
       "    <tr>\n",
       "      <th>1</th>\n",
       "      <td>2023</td>\n",
       "      <td>20231022-2151-00</td>\n",
       "      <td>5800 MONROE RD</td>\n",
       "      <td>28212</td>\n",
       "      <td>1472824.0</td>\n",
       "      <td>527355.0</td>\n",
       "      <td>35.186132</td>\n",
       "      <td>-80.764500</td>\n",
       "      <td>Independence</td>\n",
       "      <td>52</td>\n",
       "      <td>...</td>\n",
       "      <td>2023/10/22 00:00:00+00</td>\n",
       "      <td>Location of occurrence</td>\n",
       "      <td>Indoors</td>\n",
       "      <td>Commercial Place</td>\n",
       "      <td>Hotel/Motel</td>\n",
       "      <td>Open</td>\n",
       "      <td>Open</td>\n",
       "      <td>NaN</td>\n",
       "      <td>23H</td>\n",
       "      <td>All Other Thefts</td>\n",
       "    </tr>\n",
       "    <tr>\n",
       "      <th>2</th>\n",
       "      <td>2023</td>\n",
       "      <td>20231022-2131-00</td>\n",
       "      <td>2400 N TRYON ST</td>\n",
       "      <td>28206</td>\n",
       "      <td>1456970.0</td>\n",
       "      <td>549523.0</td>\n",
       "      <td>35.246247</td>\n",
       "      <td>-80.818913</td>\n",
       "      <td>Metro</td>\n",
       "      <td>157</td>\n",
       "      <td>...</td>\n",
       "      <td>2023/10/22 00:00:00+00</td>\n",
       "      <td>Location of occurrence</td>\n",
       "      <td>Indoors</td>\n",
       "      <td>Commercial Place</td>\n",
       "      <td>Other - Commercial Place</td>\n",
       "      <td>Open</td>\n",
       "      <td>Open</td>\n",
       "      <td>NaN</td>\n",
       "      <td>23H</td>\n",
       "      <td>All Other Thefts</td>\n",
       "    </tr>\n",
       "    <tr>\n",
       "      <th>3</th>\n",
       "      <td>2023</td>\n",
       "      <td>20231022-2006-03</td>\n",
       "      <td>4400 SHARON RD</td>\n",
       "      <td>28211</td>\n",
       "      <td>1453419.0</td>\n",
       "      <td>514991.0</td>\n",
       "      <td>35.151200</td>\n",
       "      <td>-80.828674</td>\n",
       "      <td>Providence</td>\n",
       "      <td>358</td>\n",
       "      <td>...</td>\n",
       "      <td>2023/10/22 00:00:00+00</td>\n",
       "      <td>Location of occurrence</td>\n",
       "      <td>Parking Lot</td>\n",
       "      <td>Retail</td>\n",
       "      <td>Shopping Mall</td>\n",
       "      <td>Open</td>\n",
       "      <td>Open</td>\n",
       "      <td>NaN</td>\n",
       "      <td>23G</td>\n",
       "      <td>Theft of Motor Vehicle Parts from Vehicle</td>\n",
       "    </tr>\n",
       "    <tr>\n",
       "      <th>4</th>\n",
       "      <td>2023</td>\n",
       "      <td>20231022-1958-01</td>\n",
       "      <td>4600 WATERFORD KNOLL DR</td>\n",
       "      <td>NaN</td>\n",
       "      <td>1446684.0</td>\n",
       "      <td>493480.0</td>\n",
       "      <td>35.091762</td>\n",
       "      <td>-80.849861</td>\n",
       "      <td>South</td>\n",
       "      <td>303</td>\n",
       "      <td>...</td>\n",
       "      <td>2023/10/22 00:00:00+00</td>\n",
       "      <td>Location of occurrence</td>\n",
       "      <td>Indoors</td>\n",
       "      <td>Residential</td>\n",
       "      <td>Apartment/Duplex Private Res</td>\n",
       "      <td>Open</td>\n",
       "      <td>Open</td>\n",
       "      <td>NaN</td>\n",
       "      <td>802</td>\n",
       "      <td>Sudden/Natural Death Investigation</td>\n",
       "    </tr>\n",
       "  </tbody>\n",
       "</table>\n",
       "<p>5 rows × 22 columns</p>\n",
       "</div>"
      ],
      "text/plain": [
       "   YEAR INCIDENT_REPORT_ID                    LOCATION    ZIP  X_COORD_PUBLIC  \\\n",
       "0  2023   20231022-2159-03  11000 NORTHLAKE LANDING DR  28216       1446960.0   \n",
       "1  2023   20231022-2151-00              5800 MONROE RD  28212       1472824.0   \n",
       "2  2023   20231022-2131-00             2400 N TRYON ST  28206       1456970.0   \n",
       "3  2023   20231022-2006-03              4400 SHARON RD  28211       1453419.0   \n",
       "4  2023   20231022-1958-01     4600 WATERFORD KNOLL DR    NaN       1446684.0   \n",
       "\n",
       "   Y_COORD_PUBLIC  LATITUDE_PUBLIC  LONGITUDE_PUBLIC CMPD_PATROL_DIVISION  \\\n",
       "0        592756.0        35.364506        -80.855140                North   \n",
       "1        527355.0        35.186132        -80.764500         Independence   \n",
       "2        549523.0        35.246247        -80.818913                Metro   \n",
       "3        514991.0        35.151200        -80.828674           Providence   \n",
       "4        493480.0        35.091762        -80.849861                South   \n",
       "\n",
       "   NPA  ...       DATE_INCIDENT_END     ADDRESS_DESCRIPTION  \\\n",
       "0   72  ...  2023/10/22 00:00:00+00  Location of occurrence   \n",
       "1   52  ...  2023/10/22 00:00:00+00  Location of occurrence   \n",
       "2  157  ...  2023/10/22 00:00:00+00  Location of occurrence   \n",
       "3  358  ...  2023/10/22 00:00:00+00  Location of occurrence   \n",
       "4  303  ...  2023/10/22 00:00:00+00  Location of occurrence   \n",
       "\n",
       "  LOCATION_TYPE_DESCRIPTION PLACE_TYPE_DESCRIPTION  \\\n",
       "0                   Indoors            Residential   \n",
       "1                   Indoors       Commercial Place   \n",
       "2                   Indoors       Commercial Place   \n",
       "3               Parking Lot                 Retail   \n",
       "4                   Indoors            Residential   \n",
       "\n",
       "       PLACE_DETAIL_DESCRIPTION CLEARANCE_STATUS CLEARANCE_DETAIL_STATUS  \\\n",
       "0             Private Residence             Open                    Open   \n",
       "1                   Hotel/Motel             Open                    Open   \n",
       "2      Other - Commercial Place             Open                    Open   \n",
       "3                 Shopping Mall             Open                    Open   \n",
       "4  Apartment/Duplex Private Res             Open                    Open   \n",
       "\n",
       "  CLEARANCE_DATE HIGHEST_NIBRS_CODE                  HIGHEST_NIBRS_DESCRIPTION  \n",
       "0            NaN                90Z                         All Other Offenses  \n",
       "1            NaN                23H                           All Other Thefts  \n",
       "2            NaN                23H                           All Other Thefts  \n",
       "3            NaN                23G  Theft of Motor Vehicle Parts from Vehicle  \n",
       "4            NaN                802         Sudden/Natural Death Investigation  \n",
       "\n",
       "[5 rows x 22 columns]"
      ]
     },
     "execution_count": 31,
     "metadata": {},
     "output_type": "execute_result"
    }
   ],
   "source": [
    "# Read in the CMPD data\n",
    "crimeDF = pd.read_csv('CMPD_Incidents.csv', low_memory=False)\n",
    "crimeDF.head()"
   ]
  },
  {
   "cell_type": "code",
   "execution_count": 3,
   "id": "c4cb6ea5-c15d-42da-bd5f-136b6110c449",
   "metadata": {},
   "outputs": [
    {
     "data": {
      "text/plain": [
       "624990"
      ]
     },
     "execution_count": 3,
     "metadata": {},
     "output_type": "execute_result"
    }
   ],
   "source": [
    "# Unique IDs from the 'INCIDENT_REPORT_ID' column\n",
    "unique_incident_report_ids = crimeDF['INCIDENT_REPORT_ID'].unique()\n",
    "len(unique_incident_report_ids)"
   ]
  },
  {
   "cell_type": "code",
   "execution_count": 4,
   "id": "6463a2a3-7f72-45b2-9b3e-5642371b0467",
   "metadata": {},
   "outputs": [
    {
     "data": {
      "text/plain": [
       "3"
      ]
     },
     "execution_count": 4,
     "metadata": {},
     "output_type": "execute_result"
    }
   ],
   "source": [
    "addressDescription = crimeDF['ADDRESS_DESCRIPTION'].unique()\n",
    "len(addressDescription)"
   ]
  },
  {
   "cell_type": "code",
   "execution_count": 5,
   "id": "3a1c6623-a03d-489c-af1c-23ea06be7333",
   "metadata": {},
   "outputs": [
    {
     "name": "stdout",
     "output_type": "stream",
     "text": [
      "['Residential' 'Commercial Place' 'Retail' 'Open Area'\n",
      " 'Public/Non-Residential']\n"
     ]
    }
   ],
   "source": [
    "placeTypeDescription = crimeDF['PLACE_TYPE_DESCRIPTION'].unique()\n",
    "print(placeTypeDescription)"
   ]
  },
  {
   "cell_type": "code",
   "execution_count": 6,
   "id": "2153d98d",
   "metadata": {},
   "outputs": [
    {
     "name": "stdout",
     "output_type": "stream",
     "text": [
      "['Indoors' 'Parking Lot' 'Outdoors' 'Other' 'Parking Deck' nan]\n"
     ]
    }
   ],
   "source": [
    "locationTypeDescription = crimeDF['LOCATION_TYPE_DESCRIPTION'].unique()\n",
    "print(locationTypeDescription)"
   ]
  },
  {
   "cell_type": "code",
   "execution_count": 7,
   "id": "3bb47b68",
   "metadata": {},
   "outputs": [
    {
     "name": "stdout",
     "output_type": "stream",
     "text": [
      "['All Other Offenses' 'All Other Thefts'\n",
      " 'Theft of Motor Vehicle Parts from Vehicle'\n",
      " 'Sudden/Natural Death Investigation' 'Theft From Motor Vehicle'\n",
      " 'Shoplifting' 'Suicide' 'Other Unlisted Non-Criminal' 'Affray'\n",
      " 'Missing Person' 'Simple Assault' 'Motor Vehicle Theft' 'Intimidation'\n",
      " 'Damage/Vandalism Of Property' 'Burglary/B&E' 'Aggravated Assault'\n",
      " 'Robbery' 'Drug/Narcotic Violations' 'Trespass Of Real Property'\n",
      " 'Credit Card/Teller Fraud' 'Impersonation' 'Forcible Fondling'\n",
      " 'Identity Theft' 'Public Accident' 'Disorderly Conduct'\n",
      " 'Weapon Law Violations' 'Overdose' 'Theft From Building'\n",
      " 'Extortion/Blackmail' 'Driving Under The Influence'\n",
      " 'Hacking/Computer Invasion' 'False Pretenses/Swindle'\n",
      " 'Counterfeiting/Forgery' 'Pocket-Picking' 'Stolen Property Offenses'\n",
      " 'Forcible Rape' 'Indecent Exposure' 'Vehicle Recovery' 'Kidnapping'\n",
      " 'Drug Equipment Violations' 'Embezzlement' 'Arson'\n",
      " 'Pornography/Obscene Material' 'Fire (Accidental/Non-Arson)' 'Murder'\n",
      " 'Family Offenses; Nonviolent' 'Statutory Rape' 'Purse-Snatching'\n",
      " 'Sexual Assault With Object' 'Wire Fraud' 'Animal Cruelty'\n",
      " 'Dog Bite/Animal Control Incident' 'Liquor Law Violations' 'Peeping Tom'\n",
      " 'Assisting Gambling' 'Curfew/Loitering/Vagrancy Violations'\n",
      " 'Forcible Sodomy' 'Worthless Check: Felony (over $2000)'\n",
      " 'Justifiable Homicide' 'Prostitution'\n",
      " 'Human Trafficking, Involuntary Servitude'\n",
      " 'Human Trafficking, Commercial Sex Acts'\n",
      " 'Theft From Coin-Operated Machine Or Device' 'Negligent Manslaughter'\n",
      " 'Incest' 'Gambling Equipment Violations' 'Betting/Wagering'\n",
      " 'Welfare Fraud' 'Purchasing Prostitution' 'Assisting Prostitution'\n",
      " 'Gas Leak' 'Bribery']\n"
     ]
    }
   ],
   "source": [
    "highestNIBRSDescription = crimeDF['HIGHEST_NIBRS_DESCRIPTION'].unique()\n",
    "print(highestNIBRSDescription)"
   ]
  },
  {
   "cell_type": "code",
   "execution_count": 54,
   "id": "6441dfe3",
   "metadata": {},
   "outputs": [
    {
     "data": {
      "text/plain": [
       "CMPD_PATROL_DIVISION\n",
       "Airport             9085\n",
       "Central            42556\n",
       "Eastway            38897\n",
       "Freedom            44791\n",
       "Hickory Grove      39983\n",
       "Independence       38036\n",
       "Metro              48413\n",
       "North              57539\n",
       "North Tryon        47192\n",
       "Providence         37969\n",
       "South              35717\n",
       "Steele Creek       66271\n",
       "University City    69217\n",
       "Westover           47961\n",
       "Name: INCIDENT_REPORT_ID, dtype: int64"
      ]
     },
     "execution_count": 54,
     "metadata": {},
     "output_type": "execute_result"
    }
   ],
   "source": [
    "#\n",
    "CmdpPatrolDivision = crimeDF.groupby(['CMPD_PATROL_DIVISION'])['INCIDENT_REPORT_ID'].count()\n",
    "# drop columns for Davidson and Huntersville\n",
    "CmdpPatrolDivision = CmdpPatrolDivision.drop([\"Davidson\", \"Huntersville\",\"Unknown\"])\n",
    "\n",
    "CmdpPatrolDivision"
   ]
  },
  {
   "cell_type": "code",
   "execution_count": 10,
   "id": "05451568",
   "metadata": {},
   "outputs": [
    {
     "name": "stdout",
     "output_type": "stream",
     "text": [
      "LOCATION_TYPE_DESCRIPTION  YEAR\n",
      "Indoors                    2017    41771\n",
      "                           2018    41553\n",
      "                           2019    43353\n",
      "                           2020    38723\n",
      "                           2021    38598\n",
      "                           2022    41399\n",
      "                           2023    32791\n",
      "Other                      2017     2046\n",
      "                           2018     2181\n",
      "                           2019     2316\n",
      "                           2020     2633\n",
      "                           2021     2890\n",
      "                           2022     2937\n",
      "                           2023     2905\n",
      "Outdoors                   2017    35416\n",
      "                           2018    34183\n",
      "                           2019    35509\n",
      "                           2020    32269\n",
      "                           2021    31620\n",
      "                           2022    32328\n",
      "                           2023    25612\n",
      "Parking Deck               2017     1019\n",
      "                           2018     1081\n",
      "                           2019     1168\n",
      "                           2020     1193\n",
      "                           2021     1347\n",
      "                           2022     1699\n",
      "                           2023     1549\n",
      "Parking Lot                2017    13197\n",
      "                           2018    12410\n",
      "                           2019    13217\n",
      "                           2020    12372\n",
      "                           2021    13758\n",
      "                           2022    14156\n",
      "                           2023    13797\n",
      "Name: INCIDENT_REPORT_ID, dtype: int64\n"
     ]
    }
   ],
   "source": [
    "\n",
    "precinctCount = crimeDF.groupby(['LOCATION_TYPE_DESCRIPTION', 'YEAR'])['INCIDENT_REPORT_ID'].count()\n",
    "with pd.option_context('display.max_rows', None, 'display.max_columns', None):\n",
    "    print(precinctCount)"
   ]
  },
  {
   "cell_type": "code",
   "execution_count": 1,
   "id": "385a22a9",
   "metadata": {},
   "outputs": [],
   "source": [
    "#Dante Dillahunt\n",
    "#Data Frame with loction of incidents by years\n",
    "\n",
    "#precinctTypeCount = crimeDF.groupby(['LOCATION_TYPE_DESCRIPTION','YEAR'])['INCIDENT_REPORT_ID'].count()\n",
    "\n",
    "#precinctTypeCount"
   ]
  },
  {
   "cell_type": "code",
   "execution_count": 12,
   "id": "fdc16d63",
   "metadata": {
    "scrolled": true
   },
   "outputs": [
    {
     "name": "stdout",
     "output_type": "stream",
     "text": [
      "LOCATION_TYPE_DESCRIPTION  YEAR\n",
      "Indoors                    2017    41771\n",
      "                           2018    41553\n",
      "                           2019    43353\n",
      "                           2020    38723\n",
      "                           2021    38598\n",
      "                           2022    41399\n",
      "                           2023    32791\n",
      "Other                      2017     2046\n",
      "                           2018     2181\n",
      "                           2019     2316\n",
      "                           2020     2633\n",
      "                           2021     2890\n",
      "                           2022     2937\n",
      "                           2023     2905\n",
      "Outdoors                   2017    35416\n",
      "                           2018    34183\n",
      "                           2019    35509\n",
      "                           2020    32269\n",
      "                           2021    31620\n",
      "                           2022    32328\n",
      "                           2023    25612\n",
      "Parking Deck               2017     1019\n",
      "                           2018     1081\n",
      "                           2019     1168\n",
      "                           2020     1193\n",
      "                           2021     1347\n",
      "                           2022     1699\n",
      "                           2023     1549\n",
      "Parking Lot                2017    13197\n",
      "                           2018    12410\n",
      "                           2019    13217\n",
      "                           2020    12372\n",
      "                           2021    13758\n",
      "                           2022    14156\n",
      "                           2023    13797\n",
      "Name: INCIDENT_REPORT_ID, dtype: int64\n"
     ]
    }
   ],
   "source": [
    "precinctTypeCount = crimeDF.groupby(['LOCATION_TYPE_DESCRIPTION','YEAR'])['INCIDENT_REPORT_ID'].count()\n",
    "\n",
    "with pd.option_context('display.max_rows', None, 'display.max_columns', None):\n",
    "    print(precinctTypeCount)"
   ]
  },
  {
   "cell_type": "code",
   "execution_count": 13,
   "id": "cb6d8e3d",
   "metadata": {
    "scrolled": true
   },
   "outputs": [
    {
     "data": {
      "text/html": [
       "<div>\n",
       "<style scoped>\n",
       "    .dataframe tbody tr th:only-of-type {\n",
       "        vertical-align: middle;\n",
       "    }\n",
       "\n",
       "    .dataframe tbody tr th {\n",
       "        vertical-align: top;\n",
       "    }\n",
       "\n",
       "    .dataframe thead th {\n",
       "        text-align: right;\n",
       "    }\n",
       "</style>\n",
       "<table border=\"1\" class=\"dataframe\">\n",
       "  <thead>\n",
       "    <tr style=\"text-align: right;\">\n",
       "      <th>LOCATION_TYPE_DESCRIPTION</th>\n",
       "      <th>Indoors</th>\n",
       "      <th>Other</th>\n",
       "      <th>Outdoors</th>\n",
       "      <th>Parking Deck</th>\n",
       "      <th>Parking Lot</th>\n",
       "    </tr>\n",
       "    <tr>\n",
       "      <th>YEAR</th>\n",
       "      <th></th>\n",
       "      <th></th>\n",
       "      <th></th>\n",
       "      <th></th>\n",
       "      <th></th>\n",
       "    </tr>\n",
       "  </thead>\n",
       "  <tbody>\n",
       "    <tr>\n",
       "      <th>2017</th>\n",
       "      <td>41771</td>\n",
       "      <td>2046</td>\n",
       "      <td>35416</td>\n",
       "      <td>1019</td>\n",
       "      <td>13197</td>\n",
       "    </tr>\n",
       "    <tr>\n",
       "      <th>2018</th>\n",
       "      <td>41553</td>\n",
       "      <td>2181</td>\n",
       "      <td>34183</td>\n",
       "      <td>1081</td>\n",
       "      <td>12410</td>\n",
       "    </tr>\n",
       "    <tr>\n",
       "      <th>2019</th>\n",
       "      <td>43353</td>\n",
       "      <td>2316</td>\n",
       "      <td>35509</td>\n",
       "      <td>1168</td>\n",
       "      <td>13217</td>\n",
       "    </tr>\n",
       "    <tr>\n",
       "      <th>2020</th>\n",
       "      <td>38723</td>\n",
       "      <td>2633</td>\n",
       "      <td>32269</td>\n",
       "      <td>1193</td>\n",
       "      <td>12372</td>\n",
       "    </tr>\n",
       "    <tr>\n",
       "      <th>2021</th>\n",
       "      <td>38598</td>\n",
       "      <td>2890</td>\n",
       "      <td>31620</td>\n",
       "      <td>1347</td>\n",
       "      <td>13758</td>\n",
       "    </tr>\n",
       "    <tr>\n",
       "      <th>2022</th>\n",
       "      <td>41399</td>\n",
       "      <td>2937</td>\n",
       "      <td>32328</td>\n",
       "      <td>1699</td>\n",
       "      <td>14156</td>\n",
       "    </tr>\n",
       "    <tr>\n",
       "      <th>2023</th>\n",
       "      <td>32791</td>\n",
       "      <td>2905</td>\n",
       "      <td>25612</td>\n",
       "      <td>1549</td>\n",
       "      <td>13797</td>\n",
       "    </tr>\n",
       "  </tbody>\n",
       "</table>\n",
       "</div>"
      ],
      "text/plain": [
       "LOCATION_TYPE_DESCRIPTION  Indoors  Other  Outdoors  Parking Deck  Parking Lot\n",
       "YEAR                                                                          \n",
       "2017                         41771   2046     35416          1019        13197\n",
       "2018                         41553   2181     34183          1081        12410\n",
       "2019                         43353   2316     35509          1168        13217\n",
       "2020                         38723   2633     32269          1193        12372\n",
       "2021                         38598   2890     31620          1347        13758\n",
       "2022                         41399   2937     32328          1699        14156\n",
       "2023                         32791   2905     25612          1549        13797"
      ]
     },
     "execution_count": 13,
     "metadata": {},
     "output_type": "execute_result"
    }
   ],
   "source": [
    "\n",
    "# group the data by CMPD patrol division and YearMonth, then count the number of incidents\n",
    "crimesPerYear = crimeDF.groupby(['LOCATION_TYPE_DESCRIPTION','YEAR']).size().reset_index(name='Crime Count')\n",
    "\n",
    "# pivot the table to create columns for each patrol division and fill missing values with 0\n",
    "crimeTable = crimesPerYear.pivot(index='YEAR', columns='LOCATION_TYPE_DESCRIPTION', values='Crime Count').fillna(0)\n",
    "\n",
    "# You can also reset the index to make YearMonth a regular column if needed\n",
    "# crime_pivot.reset_index(inplace=True)\n",
    "\n",
    "# Display the resulting table\n",
    "#crimeTable.drop(columns=columns_to_remove, inplace=True)\n",
    "pd.set_option('display.max_rows', 70)\n",
    "crimeTable"
   ]
  },
  {
   "cell_type": "code",
   "execution_count": 66,
   "id": "b503db83",
   "metadata": {
    "scrolled": true
   },
   "outputs": [
    {
     "data": {
      "image/png": "[encoded data removed]",
      "text/plain": [
       "<Figure size 900x700 with 1 Axes>"
      ]
     },
     "metadata": {},
     "output_type": "display_data"
    }
   ],
   "source": [
    "figs = precinctTypeCount.unstack(level=0).plot(kind='bar', rot=50, figsize=(9, 7), title =f'Crime Location by Year and Location', legend=False)\n",
    "plt.legend(title='Patrol Location', loc='upper left', bbox_to_anchor=(1, 1))\n",
    "plt.tight_layout()"
   ]
  },
  {
   "cell_type": "markdown",
   "id": "349f91d7",
   "metadata": {},
   "source": [
    "#Dante Dillahunt\n",
    "#Data Frame with loction of incidents by years\n",
    "\n",
    "precinctTypeCount = crimeDF.groupby(['LOCATION_TYPE_DESCRIPTION','YEAR'])['INCIDENT_REPORT_ID'].count()\n",
    "df =pd.DataFrame(precinctTypeCount)\n",
    "\n",
    "#precinctTypeCount\n",
    "precinctTypeCount.median()"
   ]
  },
  {
   "cell_type": "code",
   "execution_count": null,
   "id": "9222a320",
   "metadata": {},
   "outputs": [],
   "source": []
  },
  {
   "cell_type": "code",
   "execution_count": null,
   "id": "595c7531",
   "metadata": {},
   "outputs": [],
   "source": []
  }
 ],
 "metadata": {
  "kernelspec": {
   "display_name": "Python 3 (ipykernel)",
   "language": "python",
   "name": "python3"
  },
  "language_info": {
   "codemirror_mode": {
    "name": "ipython",
    "version": 3
   },
   "file_extension": ".py",
   "mimetype": "text/x-python",
   "name": "python",
   "nbconvert_exporter": "python",
   "pygments_lexer": "ipython3",
   "version": "3.11.5"
  }
 },
 "nbformat": 4,
 "nbformat_minor": 5
}
