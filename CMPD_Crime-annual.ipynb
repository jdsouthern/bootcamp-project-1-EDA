{
 "cells": [
  {
   "cell_type": "code",
   "execution_count": 1,
   "id": "4df93d61-ec08-475a-ae41-1e00200edf55",
   "metadata": {},
   "outputs": [],
   "source": [
    "# Dependencies\n",
    "import pandas as pd\n",
    "import matplotlib.pyplot as plt\n",
    "import scipy.stats as st\n",
    "import numpy as np"
   ]
  },
  {
   "cell_type": "code",
   "execution_count": 2,
   "id": "1d20ff89-1d69-44b6-8396-efd6f04b3aa5",
   "metadata": {},
   "outputs": [
    {
     "data": {
      "text/html": [
       "<div>\n",
       "<style scoped>\n",
       "    .dataframe tbody tr th:only-of-type {\n",
       "        vertical-align: middle;\n",
       "    }\n",
       "\n",
       "    .dataframe tbody tr th {\n",
       "        vertical-align: top;\n",
       "    }\n",
       "\n",
       "    .dataframe thead th {\n",
       "        text-align: right;\n",
       "    }\n",
       "</style>\n",
       "<table border=\"1\" class=\"dataframe\">\n",
       "  <thead>\n",
       "    <tr style=\"text-align: right;\">\n",
       "      <th></th>\n",
       "      <th>X</th>\n",
       "      <th>Y</th>\n",
       "      <th>YEAR</th>\n",
       "      <th>INCIDENT_REPORT_ID</th>\n",
       "      <th>LOCATION</th>\n",
       "      <th>CITY</th>\n",
       "      <th>STATE</th>\n",
       "      <th>ZIP</th>\n",
       "      <th>X_COORD_PUBLIC</th>\n",
       "      <th>Y_COORD_PUBLIC</th>\n",
       "      <th>...</th>\n",
       "      <th>PLACE_TYPE_DESCRIPTION</th>\n",
       "      <th>PLACE_DETAIL_DESCRIPTION</th>\n",
       "      <th>CLEARANCE_STATUS</th>\n",
       "      <th>CLEARANCE_DETAIL_STATUS</th>\n",
       "      <th>CLEARANCE_DATE</th>\n",
       "      <th>HIGHEST_NIBRS_CODE</th>\n",
       "      <th>HIGHEST_NIBRS_DESCRIPTION</th>\n",
       "      <th>OBJECTID</th>\n",
       "      <th>GlobalID</th>\n",
       "      <th>Shape</th>\n",
       "    </tr>\n",
       "  </thead>\n",
       "  <tbody>\n",
       "    <tr>\n",
       "      <th>0</th>\n",
       "      <td>1.477687e+06</td>\n",
       "      <td>540313.999945</td>\n",
       "      <td>2023</td>\n",
       "      <td>20231024-2215-01</td>\n",
       "      <td>5700 SLOPING OAKS RD</td>\n",
       "      <td>CHARLOTTE</td>\n",
       "      <td>NC</td>\n",
       "      <td>28212</td>\n",
       "      <td>1477687.0</td>\n",
       "      <td>540314.0</td>\n",
       "      <td>...</td>\n",
       "      <td>Residential</td>\n",
       "      <td>Apartment/Duplex Private Res</td>\n",
       "      <td>Open</td>\n",
       "      <td>Open</td>\n",
       "      <td>NaN</td>\n",
       "      <td>240</td>\n",
       "      <td>Motor Vehicle Theft</td>\n",
       "      <td>1</td>\n",
       "      <td>{7CFED893-C66F-4E95-8A26-D84CFBD4516F}</td>\n",
       "      <td>NaN</td>\n",
       "    </tr>\n",
       "    <tr>\n",
       "      <th>1</th>\n",
       "      <td>1.448674e+06</td>\n",
       "      <td>543094.999961</td>\n",
       "      <td>2023</td>\n",
       "      <td>20231024-2211-04</td>\n",
       "      <td>200 S POPLAR ST</td>\n",
       "      <td>CHARLOTTE</td>\n",
       "      <td>NC</td>\n",
       "      <td>28202</td>\n",
       "      <td>1448674.0</td>\n",
       "      <td>543095.0</td>\n",
       "      <td>...</td>\n",
       "      <td>Commercial Place</td>\n",
       "      <td>Other - Commercial Place</td>\n",
       "      <td>Open</td>\n",
       "      <td>Open</td>\n",
       "      <td>NaN</td>\n",
       "      <td>23H</td>\n",
       "      <td>All Other Thefts</td>\n",
       "      <td>2</td>\n",
       "      <td>{F0919628-BA54-40C6-8EF1-42C99F6ADEC4}</td>\n",
       "      <td>NaN</td>\n",
       "    </tr>\n",
       "    <tr>\n",
       "      <th>2</th>\n",
       "      <td>1.471930e+06</td>\n",
       "      <td>479061.000076</td>\n",
       "      <td>2023</td>\n",
       "      <td>20231024-2151-01</td>\n",
       "      <td>20000 SHAFFER BACH LN</td>\n",
       "      <td>CHARLOTTE</td>\n",
       "      <td>NC</td>\n",
       "      <td>28277</td>\n",
       "      <td>1471930.0</td>\n",
       "      <td>479061.0</td>\n",
       "      <td>...</td>\n",
       "      <td>Residential</td>\n",
       "      <td>Private Residence</td>\n",
       "      <td>Open</td>\n",
       "      <td>Open</td>\n",
       "      <td>NaN</td>\n",
       "      <td>23H</td>\n",
       "      <td>All Other Thefts</td>\n",
       "      <td>3</td>\n",
       "      <td>{9D48B03F-EBC9-4498-B02F-742B5FABA547}</td>\n",
       "      <td>NaN</td>\n",
       "    </tr>\n",
       "    <tr>\n",
       "      <th>3</th>\n",
       "      <td>1.409404e+06</td>\n",
       "      <td>500875.000083</td>\n",
       "      <td>2023</td>\n",
       "      <td>20231024-2130-02</td>\n",
       "      <td>13200 STEPHENDALE DR</td>\n",
       "      <td>CHARLOTTE</td>\n",
       "      <td>NC</td>\n",
       "      <td>28273</td>\n",
       "      <td>1409404.0</td>\n",
       "      <td>500875.0</td>\n",
       "      <td>...</td>\n",
       "      <td>Public/Non-Residential</td>\n",
       "      <td>Other - Public/Non-Residential</td>\n",
       "      <td>Open</td>\n",
       "      <td>Open</td>\n",
       "      <td>NaN</td>\n",
       "      <td>899</td>\n",
       "      <td>Other Unlisted Non-Criminal</td>\n",
       "      <td>4</td>\n",
       "      <td>{0D3A394C-3C4E-4405-8D59-1139A24C724C}</td>\n",
       "      <td>NaN</td>\n",
       "    </tr>\n",
       "    <tr>\n",
       "      <th>4</th>\n",
       "      <td>NaN</td>\n",
       "      <td>NaN</td>\n",
       "      <td>2023</td>\n",
       "      <td>20231024-2108-04</td>\n",
       "      <td>8600 UNIVERSITY CITY</td>\n",
       "      <td>CHARLOTTE</td>\n",
       "      <td>NC</td>\n",
       "      <td>28262</td>\n",
       "      <td>NaN</td>\n",
       "      <td>NaN</td>\n",
       "      <td>...</td>\n",
       "      <td>Open Area</td>\n",
       "      <td>Other - Open Area</td>\n",
       "      <td>Open</td>\n",
       "      <td>Open</td>\n",
       "      <td>NaN</td>\n",
       "      <td>90Z</td>\n",
       "      <td>All Other Offenses</td>\n",
       "      <td>5</td>\n",
       "      <td>{9DE1E1AE-1783-4782-BB14-94E99CFD159D}</td>\n",
       "      <td>NaN</td>\n",
       "    </tr>\n",
       "  </tbody>\n",
       "</table>\n",
       "<p>5 rows × 30 columns</p>\n",
       "</div>"
      ],
      "text/plain": [
       "              X              Y  YEAR INCIDENT_REPORT_ID  \\\n",
       "0  1.477687e+06  540313.999945  2023   20231024-2215-01   \n",
       "1  1.448674e+06  543094.999961  2023   20231024-2211-04   \n",
       "2  1.471930e+06  479061.000076  2023   20231024-2151-01   \n",
       "3  1.409404e+06  500875.000083  2023   20231024-2130-02   \n",
       "4           NaN            NaN  2023   20231024-2108-04   \n",
       "\n",
       "                LOCATION       CITY STATE    ZIP  X_COORD_PUBLIC  \\\n",
       "0   5700 SLOPING OAKS RD  CHARLOTTE    NC  28212       1477687.0   \n",
       "1        200 S POPLAR ST  CHARLOTTE    NC  28202       1448674.0   \n",
       "2  20000 SHAFFER BACH LN  CHARLOTTE    NC  28277       1471930.0   \n",
       "3   13200 STEPHENDALE DR  CHARLOTTE    NC  28273       1409404.0   \n",
       "4   8600 UNIVERSITY CITY  CHARLOTTE    NC  28262             NaN   \n",
       "\n",
       "   Y_COORD_PUBLIC  ...  PLACE_TYPE_DESCRIPTION  \\\n",
       "0        540314.0  ...             Residential   \n",
       "1        543095.0  ...        Commercial Place   \n",
       "2        479061.0  ...             Residential   \n",
       "3        500875.0  ...  Public/Non-Residential   \n",
       "4             NaN  ...               Open Area   \n",
       "\n",
       "         PLACE_DETAIL_DESCRIPTION CLEARANCE_STATUS CLEARANCE_DETAIL_STATUS  \\\n",
       "0    Apartment/Duplex Private Res             Open                    Open   \n",
       "1        Other - Commercial Place             Open                    Open   \n",
       "2               Private Residence             Open                    Open   \n",
       "3  Other - Public/Non-Residential             Open                    Open   \n",
       "4               Other - Open Area             Open                    Open   \n",
       "\n",
       "   CLEARANCE_DATE HIGHEST_NIBRS_CODE    HIGHEST_NIBRS_DESCRIPTION OBJECTID  \\\n",
       "0             NaN                240          Motor Vehicle Theft        1   \n",
       "1             NaN                23H             All Other Thefts        2   \n",
       "2             NaN                23H             All Other Thefts        3   \n",
       "3             NaN                899  Other Unlisted Non-Criminal        4   \n",
       "4             NaN                90Z           All Other Offenses        5   \n",
       "\n",
       "                                 GlobalID Shape  \n",
       "0  {7CFED893-C66F-4E95-8A26-D84CFBD4516F}   NaN  \n",
       "1  {F0919628-BA54-40C6-8EF1-42C99F6ADEC4}   NaN  \n",
       "2  {9D48B03F-EBC9-4498-B02F-742B5FABA547}   NaN  \n",
       "3  {0D3A394C-3C4E-4405-8D59-1139A24C724C}   NaN  \n",
       "4  {9DE1E1AE-1783-4782-BB14-94E99CFD159D}   NaN  \n",
       "\n",
       "[5 rows x 30 columns]"
      ]
     },
     "execution_count": 2,
     "metadata": {},
     "output_type": "execute_result"
    }
   ],
   "source": [
    "# Read in the CMPD data\n",
    "crimeDF = pd.read_csv('CMPD_Incidents.csv', low_memory=False)\n",
    "crimeDF.head()"
   ]
  },
  {
   "cell_type": "code",
   "execution_count": 3,
   "id": "c4cb6ea5-c15d-42da-bd5f-136b6110c449",
   "metadata": {},
   "outputs": [
    {
     "data": {
      "text/plain": [
       "625556"
      ]
     },
     "execution_count": 3,
     "metadata": {},
     "output_type": "execute_result"
    }
   ],
   "source": [
    "# Unique IDs from the 'INCIDENT_REPORT_ID' column\n",
    "unique_incident_report_ids = crimeDF['INCIDENT_REPORT_ID'].unique()\n",
    "len(unique_incident_report_ids)"
   ]
  },
  {
   "cell_type": "code",
   "execution_count": 4,
   "id": "6463a2a3-7f72-45b2-9b3e-5642371b0467",
   "metadata": {},
   "outputs": [
    {
     "data": {
      "text/plain": [
       "3"
      ]
     },
     "execution_count": 4,
     "metadata": {},
     "output_type": "execute_result"
    }
   ],
   "source": [
    "addressDescription = crimeDF['ADDRESS_DESCRIPTION'].unique()\n",
    "len(addressDescription)"
   ]
  },
  {
   "cell_type": "code",
   "execution_count": 8,
   "id": "ae102033-fd3a-45ab-a0ca-ea855a10aec5",
   "metadata": {},
   "outputs": [
    {
     "data": {
      "text/plain": [
       "7"
      ]
     },
     "execution_count": 8,
     "metadata": {},
     "output_type": "execute_result"
    }
   ],
   "source": [
    "yearlyCount = crimeDF['YEAR'].unique()\n",
    "len(yearlyCount)"
   ]
  },
  {
   "cell_type": "code",
   "execution_count": 30,
   "id": "3a1c6623-a03d-489c-af1c-23ea06be7333",
   "metadata": {},
   "outputs": [
    {
     "name": "stderr",
     "output_type": "stream",
     "text": [
      "C:\\Users\\KYNKE\\AppData\\Local\\Temp\\ipykernel_7892\\3564401301.py:12: UserWarning: Converting to PeriodArray/Index representation will drop timezone information.\n",
      "  crimeDF['Year'] = crimeDF['DATE_INCIDENT_BEGAN'].dt.to_period('Y')\n"
     ]
    },
    {
     "data": {
      "text/plain": [
       "Year\n",
       "2017    92935.0\n",
       "2018    91165.0\n",
       "2019    94932.0\n",
       "2020    86486.0\n",
       "2021    87756.0\n",
       "2022    91762.0\n",
       "Freq: A-DEC, Name: CHARLOTTE, dtype: float64"
      ]
     },
     "execution_count": 30,
     "metadata": {},
     "output_type": "execute_result"
    }
   ],
   "source": [
    "#columns_to_delete = ['Davidson', 'Huntersville']\n",
    "date_format = \"%Y/%m/%d %H:%M:%S%z\"\n",
    "# filter to data format\n",
    "crimeDF['DATE_INCIDENT_BEGAN'] = pd.to_datetime(crimeDF['DATE_INCIDENT_BEGAN'], format=date_format, errors='coerce')\n",
    "#set time stamp to 2017-2022 end of year\n",
    "startDate = pd.Timestamp(\"2017-01-01\", tz='UTC')\n",
    "endDate = pd.Timestamp(\"2022-12-31 23:59:59\", tz='UTC')\n",
    "# filter from 2017 to 2022\n",
    "crimeDF = crimeDF[(crimeDF['DATE_INCIDENT_BEGAN'] >= startDate) & (crimeDF['DATE_INCIDENT_BEGAN'] <= endDate)]\n",
    "\n",
    "#get the annual years \n",
    "crimeDF['Year'] = crimeDF['DATE_INCIDENT_BEGAN'].dt.to_period('Y')\n",
    "\n",
    "# group the year and city and get total count\n",
    "crimesPerYear = crimeDF.groupby(['CITY', 'Year']).size().reset_index(name='Crime Count')\n",
    "\n",
    "annualCrimeTable = crimesPerYear.pivot(index='Year', columns='CITY', values='Crime Count').fillna(0)\n",
    "#annualCrimeTable.drop(columns=columns_to_delete, inplace=True)\n",
    "pd.set_option('display.max_rows', 70)\n",
    "annualCrimeTable.loc[: , 'CHARLOTTE']\n"
   ]
  },
  {
   "cell_type": "code",
   "execution_count": 34,
   "id": "5c38c482-0311-4613-b91f-e5612def644a",
   "metadata": {},
   "outputs": [
    {
     "data": {
      "image/png": "[encoded data removed]",
      "text/plain": [
       "<Figure size 600x600 with 1 Axes>"
      ]
     },
     "metadata": {},
     "output_type": "display_data"
    }
   ],
   "source": [
    "#years = annualCrimeTable.loc[:, 'CHARLOTTE'].values\n",
    "\n",
    "# get date format\n",
    "\n",
    "yearly_data = annualCrimeTable.loc[:, 'CHARLOTTE']\n",
    "\n",
    "    \n",
    "# create a bar chart for the all years\n",
    "ax = yearly_data.plot(kind='line', stacked=True, figsize=(6, 6), title=f'Crime incidents in Charlotte by Year')\n",
    "    \n",
    "    # chart table\n",
    "plt.xlabel('Year')\n",
    "plt.ylabel('Number of Incidents')\n",
    "plt.legend(title='P', loc='upper left', bbox_to_anchor=(1, 1))\n",
    "    \n",
    "    # show the chart\n",
    "plt.show()"
   ]
  },
  {
   "cell_type": "code",
   "execution_count": null,
   "id": "0dfc27dd-cdd4-4fd7-b84e-dda910eb9240",
   "metadata": {},
   "outputs": [],
   "source": []
  }
 ],
 "metadata": {
  "kernelspec": {
   "display_name": "Python 3 (ipykernel)",
   "language": "python",
   "name": "python3"
  },
  "language_info": {
   "codemirror_mode": {
    "name": "ipython",
    "version": 3
   },
   "file_extension": ".py",
   "mimetype": "text/x-python",
   "name": "python",
   "nbconvert_exporter": "python",
   "pygments_lexer": "ipython3",
   "version": "3.11.5"
  }
 },
 "nbformat": 4,
 "nbformat_minor": 5
}
